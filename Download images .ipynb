{
 "cells": [
  {
   "cell_type": "markdown",
   "metadata": {},
   "source": [
    "Download CU images from web\n"
   ]
  },
  {
   "cell_type": "code",
   "execution_count": 1,
   "metadata": {},
   "outputs": [],
   "source": [
    "from bs4 import BeautifulSoup\n",
    "import requests\n",
    "\n",
    "URL = \"http://www.columbia.edu/help/slideshow/archive/index.html\""
   ]
  },
  {
   "cell_type": "code",
   "execution_count": 2,
   "metadata": {},
   "outputs": [],
   "source": [
    "html = requests.get(URL).text\n",
    "soup = BeautifulSoup(html, 'lxml')\n",
    "img_ul = soup.find_all('div', {\"class\": \"thumb\"})"
   ]
  },
  {
   "cell_type": "code",
   "execution_count": 3,
   "metadata": {},
   "outputs": [],
   "source": [
    "import os\n",
    "\n",
    "os.makedirs('./img/', exist_ok=True)"
   ]
  },
  {
   "cell_type": "code",
   "execution_count": 6,
   "metadata": {},
   "outputs": [
    {
     "name": "stdout",
     "output_type": "stream",
     "text": [
      "Saved cu_home_campus_1913.jpg\n",
      "Saved cu_home_chapel_blossoms.jpg\n",
      "Saved cu_home_alma_mater_spring.jpg\n",
      "Saved cu_home_alma_mater.jpg\n",
      "Saved cu_home_mudd_aerial.jpg\n",
      "Saved cu_home_mudd_rooftops.jpg\n",
      "Saved cu_home_balloons_low.jpg\n",
      "Saved cu_home_columbia_seal.jpg\n",
      "Saved cu_home_butler_dusk.jpg\n",
      "Saved cu_home_football_field_1920s.jpg\n",
      "Saved cu_home_winter_trees.jpg\n",
      "Saved cu_home_low_night.jpg\n",
      "Saved cu_home_campus_gate.jpg\n",
      "Saved cu_home_fall.jpg\n",
      "Saved cu_home_almamater.jpg\n",
      "Saved cu_home_philosophy_night.jpg\n",
      "Saved cu_home_st_paul_inlay.jpg\n",
      "Saved cu_home_butler_trees.jpg\n",
      "Saved cu_home_butler_night.jpg\n",
      "Saved cu_home_college_walk.jpg\n",
      "Saved cu_home_students_plaza.jpg\n",
      "Saved cu_home_revson_sculpture.jpg\n",
      "Saved cu_home_116th_broadway.jpg\n",
      "Saved cu_home_alma_low_3.jpg\n",
      "Saved cu_home_passing_students.jpg\n"
     ]
    }
   ],
   "source": [
    "base_url='http://www.columbia.edu/'\n",
    "for ul in img_ul:\n",
    "    imgs = ul.find_all('img')\n",
    "    for img in imgs:\n",
    "        url = base_url+img['src'].strip('../')\n",
    "        r = requests.get(url, stream=True)\n",
    "        image_name = url.split('/')[-1]\n",
    "        with open('./img/%s' % image_name, 'wb') as f:\n",
    "            for chunk in r.iter_content(chunk_size=128):\n",
    "                f.write(chunk)\n",
    "        print('Saved %s' % image_name)\n",
    "\n"
   ]
  },
  {
   "cell_type": "markdown",
   "metadata": {},
   "source": [
    "![image](/img/20171214020322682.jpg)"
   ]
  },
  {
   "cell_type": "code",
   "execution_count": null,
   "metadata": {},
   "outputs": [],
   "source": []
  }
 ],
 "metadata": {
  "kernelspec": {
   "display_name": "Python 3",
   "language": "python",
   "name": "python3"
  },
  "language_info": {
   "codemirror_mode": {
    "name": "ipython",
    "version": 3
   },
   "file_extension": ".py",
   "mimetype": "text/x-python",
   "name": "python",
   "nbconvert_exporter": "python",
   "pygments_lexer": "ipython3",
   "version": "3.6.5"
  }
 },
 "nbformat": 4,
 "nbformat_minor": 1
}
